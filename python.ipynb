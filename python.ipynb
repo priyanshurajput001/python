{
  "nbformat": 4,
  "nbformat_minor": 0,
  "metadata": {
    "colab": {
      "provenance": []
    },
    "kernelspec": {
      "name": "python3",
      "display_name": "Python 3"
    },
    "language_info": {
      "name": "python"
    }
  },
  "cells": [
    {
      "cell_type": "markdown",
      "source": [],
      "metadata": {
        "id": "R1mNrcEE0tys"
      }
    },
    {
      "cell_type": "code",
      "source": [
        "# Q1  Write a Python program to print \"Hello, World!_\n",
        "print(\"Hello,World!_\")\n"
      ],
      "metadata": {
        "colab": {
          "base_uri": "https://localhost:8080/"
        },
        "id": "Vz1t2mcr0szl",
        "outputId": "922eb9a1-c3dd-4730-a415-95032e4db2cb"
      },
      "execution_count": 1,
      "outputs": [
        {
          "output_type": "stream",
          "name": "stdout",
          "text": [
            "Hello,World!_\n"
          ]
        }
      ]
    },
    {
      "cell_type": "code",
      "source": [
        "# Q2 Write a Python program that displays your name and age\n",
        "name=input(\"name of person\")\n",
        "age=int(input(\"age of ther person is :\"))\n",
        "print(\"name of person is: \",name)\n",
        "print(\"age is:\",age)"
      ],
      "metadata": {
        "colab": {
          "base_uri": "https://localhost:8080/"
        },
        "id": "wjzlBFw61EpO",
        "outputId": "5fed0f9a-38a3-4899-8151-f7cec341a5b4"
      },
      "execution_count": 2,
      "outputs": [
        {
          "output_type": "stream",
          "name": "stdout",
          "text": [
            "name of personpriyanshu\n",
            "age of ther person is :19\n",
            "name of person is:  priyanshu\n",
            "age is: 19\n"
          ]
        }
      ]
    },
    {
      "cell_type": "code",
      "source": [
        "#some predifine keywords#\n",
        "#for example\n",
        "let_A=5\n",
        "and_b=\"skills\"\n",
        "print(type(let_A))\n",
        "print(type(and_b))\n",
        "comp=3+4j\n",
        "print(type(comp))"
      ],
      "metadata": {
        "colab": {
          "base_uri": "https://localhost:8080/"
        },
        "id": "9QShldB01PnO",
        "outputId": "72104c7c-773f-4b46-985e-b0617d8d2eb7"
      },
      "execution_count": 3,
      "outputs": [
        {
          "output_type": "stream",
          "name": "stdout",
          "text": [
            "<class 'int'>\n",
            "<class 'str'>\n",
            "<class 'complex'>\n"
          ]
        }
      ]
    },
    {
      "cell_type": "code",
      "source": [
        "# Import the keyword library\n",
        "import keyword\n",
        "\n",
        "# Define a function to check if a word is a Python keyword\n",
        "def is_keyword(word):\n",
        "    return keyword.iskeyword(word)\n",
        "\n",
        "# Example usage\n",
        "word_to_check = \"for\"\n",
        "if is_keyword(word_to_check):\n",
        "    print(f\"'{word_to_check}' is a Python keyword.\")\n",
        "else:\n",
        "    print(f\"'{word_to_check}' is not a Python keyword.\")\n"
      ],
      "metadata": {
        "colab": {
          "base_uri": "https://localhost:8080/"
        },
        "id": "bJAH1r_T1X6h",
        "outputId": "4fdee31d-1208-44c1-d9e1-e982c0f53167"
      },
      "execution_count": 7,
      "outputs": [
        {
          "output_type": "stream",
          "name": "stdout",
          "text": [
            "'for' is a Python keyword.\n"
          ]
        }
      ]
    },
    {
      "cell_type": "code",
      "source": [
        "# # Q3. Create a list and tuple in Python, and demonstrate how attempting to change an element works differently\n",
        "# for each0\n",
        "my_list=[\"apple\",\"banana\",\"choclate\",\"mango\"]\n",
        "\n",
        "my_tuples=(\"apple\",\"banana\",\"choclate\",\"mango\")\n",
        "#changing the item in list:\n",
        "my_list[1]=\"froote\"\n",
        "#changing the item in tuples:\n",
        "# my_tuples[1]=\"froote\"\n",
        "print(my_list)\n",
        "print(my_tuples)\n",
        "#the  tuples will not exicute an allow us to exicute the code"
      ],
      "metadata": {
        "colab": {
          "base_uri": "https://localhost:8080/"
        },
        "id": "XqotmSph2JTM",
        "outputId": "351a1f9c-d40f-4a77-d9dc-e0ad0b219d34"
      },
      "execution_count": 9,
      "outputs": [
        {
          "output_type": "stream",
          "name": "stdout",
          "text": [
            "['apple', 'froote', 'choclate', 'mango']\n",
            "('apple', 'banana', 'choclate', 'mango')\n"
          ]
        }
      ]
    },
    {
      "cell_type": "code",
      "source": [
        "# Q4 Write a function to demonstrate the behavior of mutable and immutable arguments0\n",
        "# Ans4\n",
        "my_list=[\"apple\",\"banana\",\"choclate\",\"mango\"]\n",
        "my_list[1]=\"froote\"\n",
        "my_list\n",
        "#the object/container that consist the values will able to change and this state will called mutablity\n"
      ],
      "metadata": {
        "colab": {
          "base_uri": "https://localhost:8080/"
        },
        "id": "jgkhJvWk2RMH",
        "outputId": "44e0f96b-2c59-4848-a110-27f1c5bfc76b"
      },
      "execution_count": 8,
      "outputs": [
        {
          "output_type": "execute_result",
          "data": {
            "text/plain": [
              "['apple', 'froote', 'choclate', 'mango']"
            ]
          },
          "metadata": {},
          "execution_count": 8
        }
      ]
    },
    {
      "cell_type": "code",
      "source": [],
      "metadata": {
        "id": "GvrKnNOF2an3"
      },
      "execution_count": null,
      "outputs": []
    },
    {
      "cell_type": "code",
      "source": [
        "#immutablity is that which did not allow us to make any chnage in the object/container (str) are basically an immutable\n",
        "my_list=\"myskils\"\n",
        "my_list[3]=\"k\"\n",
        "my_list"
      ],
      "metadata": {
        "colab": {
          "base_uri": "https://localhost:8080/",
          "height": 211
        },
        "id": "m8cohbgf2fuG",
        "outputId": "0ec9920c-de04-47e3-82d2-89e41623422a"
      },
      "execution_count": 10,
      "outputs": [
        {
          "output_type": "error",
          "ename": "TypeError",
          "evalue": "'str' object does not support item assignment",
          "traceback": [
            "\u001b[0;31m---------------------------------------------------------------------------\u001b[0m",
            "\u001b[0;31mTypeError\u001b[0m                                 Traceback (most recent call last)",
            "\u001b[0;32m<ipython-input-10-12041143bfba>\u001b[0m in \u001b[0;36m<cell line: 3>\u001b[0;34m()\u001b[0m\n\u001b[1;32m      1\u001b[0m \u001b[0;31m#immutablity is that which did not allow us to make any chnage in the object/container (str) are basically an immutable\u001b[0m\u001b[0;34m\u001b[0m\u001b[0;34m\u001b[0m\u001b[0m\n\u001b[1;32m      2\u001b[0m \u001b[0mmy_list\u001b[0m\u001b[0;34m=\u001b[0m\u001b[0;34m\"myskils\"\u001b[0m\u001b[0;34m\u001b[0m\u001b[0;34m\u001b[0m\u001b[0m\n\u001b[0;32m----> 3\u001b[0;31m \u001b[0mmy_list\u001b[0m\u001b[0;34m[\u001b[0m\u001b[0;36m3\u001b[0m\u001b[0;34m]\u001b[0m\u001b[0;34m=\u001b[0m\u001b[0;34m\"k\"\u001b[0m\u001b[0;34m\u001b[0m\u001b[0;34m\u001b[0m\u001b[0m\n\u001b[0m\u001b[1;32m      4\u001b[0m \u001b[0mmy_list\u001b[0m\u001b[0;34m\u001b[0m\u001b[0;34m\u001b[0m\u001b[0m\n",
            "\u001b[0;31mTypeError\u001b[0m: 'str' object does not support item assignment"
          ]
        }
      ]
    },
    {
      "cell_type": "code",
      "source": [
        "# Q.5 Write a function to demonstrate the behavior of mutable and immutable arguments\n",
        "def demonstrate_behavior(immutable_arg, mutable_arg):\n",
        "    # Modify the immutable argument\n",
        "    immutable_arg += 100\n",
        "    # Modify the mutable argument\n",
        "    mutable_arg.append(100)\n",
        "\n",
        "    print(\"Inside the function:\")\n",
        "    print(\"Immutable argument:\", immutable_arg)\n",
        "    print(\"Mutable argument:\", mutable_arg)\n",
        "\n",
        "# Immutable argument (integer)\n",
        "immutable_value = 10\n",
        "# Mutable argument (list)\n",
        "mutable_value = [1, 2, 3]\n",
        "\n",
        "print(\"Before calling the function:\")\n",
        "print(\"Immutable argument:\", immutable_value)\n",
        "print(\"Mutable argument:\", mutable_value)\n",
        "\n",
        "# Call the function\n",
        "demonstrate_behavior(immutable_value, mutable_value)\n",
        "\n",
        "print(\"After calling the function:\")\n",
        "print(\"Immutable argument:\", immutable_value)\n",
        "print(\"Mutable argument:\", mutable_value)\n"
      ],
      "metadata": {
        "colab": {
          "base_uri": "https://localhost:8080/"
        },
        "id": "GnI1P3cQ2juR",
        "outputId": "5b0044ba-2b9c-482c-e713-8e0b209d1ebe"
      },
      "execution_count": 11,
      "outputs": [
        {
          "output_type": "stream",
          "name": "stdout",
          "text": [
            "Before calling the function:\n",
            "Immutable argument: 10\n",
            "Mutable argument: [1, 2, 3]\n",
            "Inside the function:\n",
            "Immutable argument: 110\n",
            "Mutable argument: [1, 2, 3, 100]\n",
            "After calling the function:\n",
            "Immutable argument: 10\n",
            "Mutable argument: [1, 2, 3, 100]\n"
          ]
        }
      ]
    },
    {
      "cell_type": "markdown",
      "source": [
        "Q6 Write a program to demonstrate the use of logical operators"
      ],
      "metadata": {
        "id": "JBHyjwX42nUU"
      }
    },
    {
      "cell_type": "code",
      "source": [
        "#hear we can learn th3 use off logical operator\n",
        "def logical_operators_demo(a, b):\n",
        "    # Using 'and' operator\n",
        "    if a > 0 and b > 0:\n",
        "        print(\"Both a and b are positive.\")\n",
        "\n",
        "    # Using 'or' operator\n",
        "    if a > 0 or b > 0:\n",
        "        print(\"At least one of a or b is positive.\")\n",
        "\n",
        "    # Using 'not' operator\n",
        "    if not (a >0):\n",
        "        print(\"a is not positive.\")\n",
        "        #this not operater will give the outpput in opposite form\n",
        "\n",
        "# Example usage\n",
        "a = 5\n",
        "b = 33\n",
        "\n",
        "logical_operators_demo(a, b)"
      ],
      "metadata": {
        "colab": {
          "base_uri": "https://localhost:8080/"
        },
        "id": "8FtbEzy82qEY",
        "outputId": "fd5fc82c-216d-4538-8735-bdc2817563cd"
      },
      "execution_count": 12,
      "outputs": [
        {
          "output_type": "stream",
          "name": "stdout",
          "text": [
            "Both a and b are positive.\n",
            "At least one of a or b is positive.\n"
          ]
        }
      ]
    },
    {
      "cell_type": "code",
      "source": [
        "#7 Write a program that checks if a number is positive, negative, or zero0\n",
        "num=int(input(\"inter an integers:\"))\n",
        "if(num>0):\n",
        "    print(\"the number is positive :\")\n",
        "elif(num>1):\n",
        "    print(\"the number  is positive\")\n",
        "else:\n",
        "    print(\"the number is zero\")\n",
        "\n",
        "\n",
        ""
      ],
      "metadata": {
        "colab": {
          "base_uri": "https://localhost:8080/"
        },
        "id": "43VukgDd2xzK",
        "outputId": "89099e48-e718-44a6-a849-9fdf3ebd35ca"
      },
      "execution_count": 13,
      "outputs": [
        {
          "output_type": "stream",
          "name": "stdout",
          "text": [
            "inter an integers:67\n",
            "the number is positive :\n"
          ]
        }
      ]
    },
    {
      "cell_type": "markdown",
      "source": [
        "Q8  Write a for loop to print numbers from 1 to 100\n"
      ],
      "metadata": {
        "id": "o_4bZ4q33XgJ"
      }
    },
    {
      "cell_type": "code",
      "source": [
        "for i in range(1,101):# basically this range keyword work like n-1\n",
        "    print(i)\n"
      ],
      "metadata": {
        "id": "6UTexss-3R_Z"
      },
      "execution_count": null,
      "outputs": []
    },
    {
      "cell_type": "code",
      "source": [
        "# Q9 Write a Python program to find the sum of all even numbers between 1\n",
        "#  and 500\n",
        " or i in range(1,51):\n",
        "    if  i%2==0:\n",
        "        print(i)"
      ],
      "metadata": {
        "id": "vtbeoh2u3NDW"
      },
      "execution_count": null,
      "outputs": []
    },
    {
      "cell_type": "code",
      "source": [
        "# Q10 Write a program to reverse a string using a while loop\n",
        "name=input(\"enter string\")\n",
        "print(\"original string is:\",name)\n",
        "r_name=\"\"\n",
        "count=len(name)\n",
        "while count>0:\n",
        "    r_name=r_name+name[count-1]\n",
        "    count=count-1\n",
        "    print(\"reversing string is\",r_name)"
      ],
      "metadata": {
        "colab": {
          "base_uri": "https://localhost:8080/"
        },
        "id": "wQR4lMw03jgl",
        "outputId": "2a3bb2c0-8529-4e4f-a4c2-b2391e10c98e"
      },
      "execution_count": 15,
      "outputs": [
        {
          "output_type": "stream",
          "name": "stdout",
          "text": [
            "enter stringhallo\n",
            "original string is: hallo\n",
            "reversing string is o\n",
            "reversing string is ol\n",
            "reversing string is oll\n",
            "reversing string is olla\n",
            "reversing string is ollah\n"
          ]
        }
      ]
    },
    {
      "cell_type": "markdown",
      "source": [],
      "metadata": {
        "id": "B7TB4BGJ3nZo"
      }
    },
    {
      "cell_type": "code",
      "source": [
        "#  Q11 Write a Python program to calculate the factorial of a number provided by the user using a while loop\n",
        "# Get the number from the user\n",
        "number = int(input(\"Enter a number: \"))\n",
        "\n",
        "# Initialize the factorial variable\n",
        "factorial = 1\n",
        "\n",
        "# Initialize the counter variable\n",
        "counter = number\n",
        "\n",
        "# While loop to calculate the factorial\n",
        "while counter > 0:\n",
        "    factorial *= counter\n",
        "    counter=counter-1\n",
        "\n",
        "# Print the result\n",
        "print(f\"The factorial of {number} is {factorial}\")\n"
      ],
      "metadata": {
        "colab": {
          "base_uri": "https://localhost:8080/"
        },
        "id": "k55a754x3rGE",
        "outputId": "feacf682-7e6c-4c93-f741-5d3151962638"
      },
      "execution_count": 16,
      "outputs": [
        {
          "output_type": "stream",
          "name": "stdout",
          "text": [
            "Enter a number: 67\n",
            "The factorial of 67 is 36471110918188685288249859096605464427167635314049524593701628500267962436943872000000000000000\n"
          ]
        }
      ]
    },
    {
      "cell_type": "markdown",
      "source": [],
      "metadata": {
        "id": "t8YlcKFQ7EcV"
      }
    },
    {
      "cell_type": "markdown",
      "source": [
        "Q1 What is Python, and why is it popular?\n",
        "\n",
        "Python is a high-level, general-purpose programming language known for its readability and versatility. It's popular due to its vast libraries, ease of use, and strong community support.\n",
        "\n",
        "\n",
        "q2 What is an interpreter in Python?\n",
        "\n",
        "The Python interpreter is a program that executes Python code line by line, translating it into machine-readable instructions.\n",
        "\n",
        "\n",
        "Q3 What are pre-defined keywords in Python?\n",
        "\n",
        "Pre-defined keywords are reserved words with special meanings in Python, like for, while, if, else, etc. They cannot be used as variable names.\n",
        "\n",
        "\n",
        "CQ4 an keywords be used as variable names?\n",
        "\n",
        "No, keywords cannot be used as variable names. They are reserved for specific purposes in the language.\n",
        "\n",
        "\n",
        "Q5 What is mutability in Python?\n",
        "\n",
        "Mutability refers to the ability of an object to be changed after it's created. Mutable objects can be modified, while immutable objects cannot.\n",
        "\n",
        "\n",
        "Q6 Why are lists mutable, but tuples are immutable?\n",
        "\n",
        "Lists are designed to be flexible and allow changes, while tuples are intended to represent fixed collections of data.\n",
        "\n",
        "\n",
        "Q7 What is the difference between \"==\" and \"is\" operators in Python?\n",
        "\n",
        "== checks for equality of values, while is checks if two variables refer to the same object in memory.\n",
        "\n",
        "Q8What are logical operators in Python?\n",
        "\n",
        "Logical operators (and, or, not) combine or modify Boolean expressions.\n",
        "\n",
        "Q9 What is type casting in Python?\n",
        "\n",
        "Type casting is the process of converting a value from one data type to another.\n",
        "\n",
        "Q10 What is the difference between implicit and explicit type casting?\n",
        "\n",
        "Implicit type casting is done automatically by Python, while explicit type casting requires using functions like int(), float(), etc.\n",
        "\n",
        "\n",
        "Q11What is the purpose of conditional statements in Python?\n",
        "\n",
        "Conditional statements (if, elif, else) control the flow of execution based on conditions.\n",
        "\n",
        "\n",
        "Q12 How does the elif statement work?\n",
        "\n",
        "elif (short for \"else if\") allows checking multiple conditions sequentially. If the preceding if or elif conditions are False, the elif condition is evaluated.\n",
        "\n",
        "\n",
        "Q13 What is the difference between for and while loops?\n",
        "\n",
        "  for loops iterate over a sequence of items, while while loops execute as long as a condition is True.\n",
        "\n",
        "14 Describe a scenario where a while loop is more suitable than a for loop.\n",
        "\n",
        "A while loop is more suitable when you need to repeat a block of code until a specific condition is met, and you don't know the number of iterations in advance. For instance, reading user input until they enter a valid value."
      ],
      "metadata": {
        "id": "Llh2hmWz7Joj"
      }
    }
  ]
}